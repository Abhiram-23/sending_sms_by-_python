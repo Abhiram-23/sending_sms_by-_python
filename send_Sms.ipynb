{
 "cells": [
  {
   "cell_type": "code",
   "execution_count": 7,
   "metadata": {},
   "outputs": [],
   "source": [
    "from twilio.rest import Client"
   ]
  },
  {
   "cell_type": "code",
   "execution_count": 6,
   "metadata": {},
   "outputs": [
    {
     "name": "stdout",
     "output_type": "stream",
     "text": [
      "Collecting twilioNote: you may need to restart the kernel to use updated packages.\n",
      "  Downloading twilio-6.41.0.tar.gz (435 kB)\n",
      "Requirement already satisfied: six in c:\\users\\pabhi\\anaconda3\\lib\\site-packages (from twilio) (1.14.0)\n",
      "Requirement already satisfied: pytz in c:\\users\\pabhi\\anaconda3\\lib\\site-packages (from twilio) (2019.3)\n",
      "Requirement already satisfied: PyJWT>=1.4.2 in c:\\users\\pabhi\\anaconda3\\lib\\site-packages (from twilio) (1.7.1)\n",
      "Requirement already satisfied: requests>=2.0.0 in c:\\users\\pabhi\\anaconda3\\lib\\site-packages (from twilio) (2.23.0)\n",
      "Requirement already satisfied: urllib3!=1.25.0,!=1.25.1,<1.26,>=1.21.1 in c:\\users\\pabhi\\anaconda3\\lib\\site-packages (from requests>=2.0.0->twilio) (1.25.8)\n",
      "Requirement already satisfied: chardet<4,>=3.0.2 in c:\\users\\pabhi\\anaconda3\\lib\\site-packages (from requests>=2.0.0->twilio) (3.0.4)\n",
      "Requirement already satisfied: idna<3,>=2.5 in c:\\users\\pabhi\\anaconda3\\lib\\site-packages (from requests>=2.0.0->twilio) (2.9)\n",
      "Requirement already satisfied: certifi>=2017.4.17 in c:\\users\\pabhi\\anaconda3\\lib\\site-packages (from requests>=2.0.0->twilio) (2020.4.5.1)\n",
      "Building wheels for collected packages: twilio\n",
      "  Building wheel for twilio (setup.py): started\n",
      "  Building wheel for twilio (setup.py): finished with status 'done'\n",
      "\n",
      "  Created wheel for twilio: filename=twilio-6.41.0-py2.py3-none-any.whl size=1152634 sha256=60df7998297757078a7545571b97ef79ab691c32510e69cd5e65759fdaa5d7db\n",
      "  Stored in directory: c:\\users\\pabhi\\appdata\\local\\pip\\cache\\wheels\\3f\\2d\\38\\1e98ead58c626db85f29180a62041901ffd131979b82ded628\n",
      "Successfully built twilio\n",
      "Installing collected packages: twilio\n",
      "Successfully installed twilio-6.41.0\n"
     ]
    }
   ],
   "source": [
    "pip install twilio"
   ]
  },
  {
   "cell_type": "code",
   "execution_count": 14,
   "metadata": {},
   "outputs": [],
   "source": [
    "from twilio.rest import Client"
   ]
  },
  {
   "cell_type": "code",
   "execution_count": 38,
   "metadata": {},
   "outputs": [],
   "source": [
    "# enter your account_sid details from twilio accout\n",
    "acc_sid='*******************'\n",
    "# enter your tocken details by removing stars\n",
    "auth_token='****************'\n",
    "# enter your cell number\n",
    "my_cell='*******************' \n",
    "# enter your twilio cell number\n",
    "my_twilio='**********'"
   ]
  },
  {
   "cell_type": "code",
   "execution_count": 39,
   "metadata": {},
   "outputs": [],
   "source": [
    "client=Client(acc_sid,auth_token)\n",
    "my_msg= 'hai u are hacked...☼♀♂♠♦♣♥•◘○↕‼©®ÃJ,¡☻'\n",
    "message = client.messages.create(to=my_cell,from_=my_twilio,body=my_msg)"
   ]
  },
  {
   "cell_type": "code",
   "execution_count": null,
   "metadata": {},
   "outputs": [],
   "source": []
  }
 ],
 "metadata": {
  "kernelspec": {
   "display_name": "Python 3",
   "language": "python",
   "name": "python3"
  },
  "language_info": {
   "codemirror_mode": {
    "name": "ipython",
    "version": 3
   },
   "file_extension": ".py",
   "mimetype": "text/x-python",
   "name": "python",
   "nbconvert_exporter": "python",
   "pygments_lexer": "ipython3",
   "version": "3.7.3"
  }
 },
 "nbformat": 4,
 "nbformat_minor": 4
}
